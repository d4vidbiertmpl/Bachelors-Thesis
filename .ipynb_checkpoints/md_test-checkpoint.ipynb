{
 "cells": [
  {
   "cell_type": "markdown",
   "metadata": {},
   "source": [
    "# Implementation and Evaluation of a Deictic Gesture Interface with the NICO robot\n",
    "### Supervisors and Examiners: [Dr. Doreen Jirak](https://www.inf.uni-hamburg.de/en/inst/ab/wtm/people/jirak.html \"University of Hamburg - Website\") and [Dr. Matthias Kerzel](https://www.inf.uni-hamburg.de/en/inst/ab/wtm/people/kerzel.html \"University of Hamburg - Website\")\n",
    "\n",
    "In my Bachelor's thesis I implemented an interface for recognizing deictic (pointing) gestures with the [NICO (Neuro-Inspired COmpanion)](https://www.inf.uni-hamburg.de/en/inst/ab/wtm/research/neurobotics/nico.html \"University of Hamburg - Website\")\n",
    "robot. In the scenario, the experimenter points to objects and NICO gives feedback on which object is currently targeted. After implementing a *naive* solution using traditional computer-vision based methods, a [Growing When Required (GWR)](https://vision.unipv.it/IA2/aa2008-2009/A%20self-organising%20network%20that%20grows%20when%20required.pdf \"Marsland et. al.\") network is used to improve accuracy and enhance stability.\n",
    " \n",
    " \n",
    "**Abstract:** In everyday interactions, people intuitively reference entities in their environment by pointing at them. These so-called deictic gestures allow directing other people's attention to a desired referent. In the field of Human-Robot-Interaction deictic gesture are of frequent interest as they enable people to apply familiar behavior to shift the robot's focus. However, despite being intuitive, deictic gestures possess an inherent ambiguity. Depending on the perspective and the target's proximity to other entities, the actual target of a deictic gesture may sometimes be difficult to identify, even for a human interaction partner. To this end, this thesis investigates whether we can create a natural deictic gesture interface with the humanoid robot NICO that is capable of recognizing a gesture's target also in ambiguous object constellations. In order to address this task we introduce two approaches: First, we approximate a pointing array from the hand posture of the experimenter. Subsequently, we predict the gesture's target by using a Growing When Required network (GWR). Finally, we create experimental set-ups to evaluate our approaches.\n",
    "\n",
    "## Examples\n",
    "\n",
    "![alt text](https://raw.githubusercontent.comd4vidbiertmpl/Bachelors-thesis/master/path/to/img.png)\n"
   ]
  },
  {
   "cell_type": "code",
   "execution_count": 2,
   "metadata": {},
   "outputs": [
    {
     "name": "stdout",
     "output_type": "stream",
     "text": [
      "/bin/sh: 1: Syntax error: \"(\" unexpected\r\n"
     ]
    }
   ],
   "source": []
  },
  {
   "cell_type": "code",
   "execution_count": null,
   "metadata": {},
   "outputs": [],
   "source": []
  }
 ],
 "metadata": {
  "kernelspec": {
   "display_name": "Python 3",
   "language": "python",
   "name": "python3"
  },
  "language_info": {
   "codemirror_mode": {
    "name": "ipython",
    "version": 3
   },
   "file_extension": ".py",
   "mimetype": "text/x-python",
   "name": "python",
   "nbconvert_exporter": "python",
   "pygments_lexer": "ipython3",
   "version": "3.7.3"
  }
 },
 "nbformat": 4,
 "nbformat_minor": 2
}
